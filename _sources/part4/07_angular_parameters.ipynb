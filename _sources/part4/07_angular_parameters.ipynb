{
 "cells": [
  {
   "cell_type": "markdown",
   "metadata": {},
   "source": [
    "## Angular parameter\n",
    "\n",
    "This illustartes the use of angular parameter to identify diamond structure. Angular parameter was introduced by [Uttomark et al.](https://journals.aps.org/prb/abstract/10.1103/PhysRevB.47.15717), and measures the tetrahedrality of the local atomic structure. An atom belonging to diamond structure has four nearest neighbors which gives rise to six three body angles around the atom. The angular parameter $A$ is then defined as,  \n",
    "\n",
    "$A = \\sum_{i=1}^6 (\\cos(\\theta_i)+\\frac{1}{3})^2$  \n",
    "\n",
    "An atom belonging to diamond structure would show the value of angular params close to 0. The following example illustrates the use of this parameter."
   ]
  },
  {
   "cell_type": "code",
   "execution_count": 1,
   "metadata": {},
   "outputs": [],
   "source": [
    "import pyscal.core as pc\n",
    "import pyscal.crystal_structures as pcs\n",
    "import numpy as np\n",
    "import matplotlib.pyplot as plt"
   ]
  },
  {
   "cell_type": "markdown",
   "metadata": {},
   "source": [
    "### Create structures\n",
    "\n",
    "The first step is to create some structures using the pyscal crystal structures module and assign it to a System. This can be done as follows- "
   ]
  },
  {
   "cell_type": "code",
   "execution_count": 2,
   "metadata": {},
   "outputs": [],
   "source": [
    "atoms, box = pcs.make_crystal('diamond', lattice_constant=4, repetitions=[3,3,3])\n",
    "sys = pc.System()\n",
    "sys.atoms = atoms\n",
    "sys.box = box"
   ]
  },
  {
   "cell_type": "markdown",
   "metadata": {},
   "source": [
    "Now we can find the neighbors of all atoms. In this case we will use an adaptive method which can find an individual cutoff for each atom."
   ]
  },
  {
   "cell_type": "code",
   "execution_count": 3,
   "metadata": {},
   "outputs": [],
   "source": [
    "sys.find_neighbors(method='cutoff', cutoff='adaptive')"
   ]
  },
  {
   "cell_type": "markdown",
   "metadata": {},
   "source": [
    "Finally, the angular criteria can be calculated by,"
   ]
  },
  {
   "cell_type": "code",
   "execution_count": 4,
   "metadata": {},
   "outputs": [],
   "source": [
    "sys.calculate_angularcriteria()"
   ]
  },
  {
   "cell_type": "markdown",
   "metadata": {},
   "source": [
    "The above function assigns the angular value for each atom which can be accessed using,"
   ]
  },
  {
   "cell_type": "code",
   "execution_count": 5,
   "metadata": {},
   "outputs": [],
   "source": [
    "atoms = sys.atoms\n",
    "angular = [atom.angular for atom in atoms]"
   ]
  },
  {
   "cell_type": "markdown",
   "metadata": {},
   "source": [
    "The angular values are zero for atoms that belong to diamond structure."
   ]
  }
 ],
 "metadata": {
  "kernelspec": {
   "display_name": "ml",
   "language": "python",
   "name": "ml"
  },
  "language_info": {
   "codemirror_mode": {
    "name": "ipython",
    "version": 3
   },
   "file_extension": ".py",
   "mimetype": "text/x-python",
   "name": "python",
   "nbconvert_exporter": "python",
   "pygments_lexer": "ipython3",
   "version": "3.7.3"
  }
 },
 "nbformat": 4,
 "nbformat_minor": 4
}
