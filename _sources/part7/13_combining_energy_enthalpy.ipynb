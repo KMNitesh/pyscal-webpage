{
 "cells": [
  {
   "cell_type": "markdown",
   "metadata": {},
   "source": [
    "## Entropy and enthalpy parameters\n",
    "\n",
    "In this example, energy and entropy parameters will be used for structural distinction. We will consider bcc, fcc, and hcp structures to calculate the parameters."
   ]
  },
  {
   "cell_type": "code",
   "execution_count": 1,
   "metadata": {},
   "outputs": [],
   "source": [
    "import pyscal.core as pc\n",
    "import pyscal.crystal_structures as pcs\n",
    "import numpy as np\n",
    "import matplotlib.pyplot as plt"
   ]
  },
  {
   "cell_type": "markdown",
   "metadata": {},
   "source": [
    "Now we will create some structures with thermal vibrations"
   ]
  },
  {
   "cell_type": "code",
   "execution_count": 2,
   "metadata": {},
   "outputs": [],
   "source": [
    "bcc_atoms, bcc_box = pcs.make_crystal('bcc', \n",
    "                    lattice_constant=3.147, \n",
    "                    repetitions=[10,10,10], noise=0.1)\n",
    "bcc = pc.System()\n",
    "bcc.atoms = bcc_atoms\n",
    "bcc.box = bcc_box"
   ]
  },
  {
   "cell_type": "code",
   "execution_count": 3,
   "metadata": {},
   "outputs": [],
   "source": [
    "fcc_atoms, fcc_box = pcs.make_crystal('fcc', \n",
    "                     lattice_constant=3.147, \n",
    "                     repetitions=[10,10,10], noise=0.1)\n",
    "fcc = pc.System()\n",
    "fcc.atoms = fcc_atoms\n",
    "fcc.box = fcc_box"
   ]
  },
  {
   "cell_type": "code",
   "execution_count": 4,
   "metadata": {},
   "outputs": [],
   "source": [
    "hcp_atoms, hcp_box = pcs.make_crystal('hcp', \n",
    "                     lattice_constant=3.147, \n",
    "                     repetitions=[10,10,10], noise=0.1)\n",
    "hcp = pc.System()\n",
    "hcp.atoms = hcp_atoms\n",
    "hcp.box = hcp_box"
   ]
  },
  {
   "cell_type": "markdown",
   "metadata": {},
   "source": [
    "The next step is to calculate the neighbors using adaptive cutoff"
   ]
  },
  {
   "cell_type": "code",
   "execution_count": 5,
   "metadata": {},
   "outputs": [],
   "source": [
    "bcc.find_neighbors(method='cutoff', cutoff=0)\n",
    "fcc.find_neighbors(method='cutoff', cutoff=0)\n",
    "hcp.find_neighbors(method='cutoff', cutoff=0)"
   ]
  },
  {
   "cell_type": "markdown",
   "metadata": {},
   "source": [
    "In order to calculate energy, a molybdenum potential is used here."
   ]
  },
  {
   "cell_type": "code",
   "execution_count": 6,
   "metadata": {},
   "outputs": [],
   "source": [
    "bcc.calculate_energy(species=['Mo'], pair_style='eam/alloy', \n",
    "                     pair_coeff='* * Mo.set Mo', mass=95,\n",
    "                     averaged=True)\n",
    "fcc.calculate_energy(species=['Mo'], pair_style='eam/alloy', \n",
    "                     pair_coeff='* * Mo.set Mo', mass=95,\n",
    "                     averaged=True)\n",
    "hcp.calculate_energy(species=['Mo'], pair_style='eam/alloy', \n",
    "                     pair_coeff='* * Mo.set Mo', mass=95,\n",
    "                     averaged=True)"
   ]
  },
  {
   "cell_type": "markdown",
   "metadata": {},
   "source": [
    "Now we will calculate the entropy parameters"
   ]
  },
  {
   "cell_type": "code",
   "execution_count": 7,
   "metadata": {},
   "outputs": [],
   "source": [
    "latbcc = (bcc.box[0][1]-bcc.box[0][0])/10\n",
    "latfcc = (fcc.box[0][1]-fcc.box[0][0])/10\n",
    "lathcp = (hcp.box[0][1]-hcp.box[0][0])/10"
   ]
  },
  {
   "cell_type": "code",
   "execution_count": 8,
   "metadata": {},
   "outputs": [],
   "source": [
    "bcc.calculate_entropy(1.4*latbcc, averaged=True, local=True)\n",
    "fcc.calculate_entropy(1.4*latfcc, averaged=True, local=True)\n",
    "hcp.calculate_entropy(1.4*lathcp, averaged=True, local=True)"
   ]
  },
  {
   "cell_type": "markdown",
   "metadata": {},
   "source": [
    "Gather the values"
   ]
  },
  {
   "cell_type": "code",
   "execution_count": 9,
   "metadata": {},
   "outputs": [],
   "source": [
    "bccenergy = [atom.energy for atom in bcc.atoms]\n",
    "avgbccenergy = [atom.avg_energy for atom in bcc.atoms]\n",
    "fccenergy = [atom.energy for atom in fcc.atoms]\n",
    "avgfccenergy = [atom.avg_energy for atom in fcc.atoms]\n",
    "hcpenergy = [atom.energy for atom in hcp.atoms]\n",
    "avghcpenergy = [atom.avg_energy for atom in hcp.atoms]"
   ]
  },
  {
   "cell_type": "code",
   "execution_count": 10,
   "metadata": {},
   "outputs": [],
   "source": [
    "bccentropy = [atom.entropy for atom in bcc.atoms]\n",
    "avgbccentropy = [atom.avg_entropy for atom in bcc.atoms]\n",
    "fccentropy = [atom.entropy for atom in fcc.atoms]\n",
    "avgfccentropy = [atom.avg_entropy for atom in fcc.atoms]\n",
    "hcpentropy = [atom.entropy for atom in hcp.atoms]\n",
    "avghcpentropy = [atom.avg_entropy for atom in hcp.atoms]"
   ]
  },
  {
   "cell_type": "code",
   "execution_count": 13,
   "metadata": {},
   "outputs": [
    {
     "data": {
      "text/plain": [
       "<matplotlib.legend.Legend at 0x7f82fd6bc690>"
      ]
     },
     "execution_count": 13,
     "metadata": {},
     "output_type": "execute_result"
    },
    {
     "data": {
      "image/png": "[encoded data removed]",
      "text/plain": [
       "<Figure size 432x288 with 1 Axes>"
      ]
     },
     "metadata": {
      "needs_background": "light"
     },
     "output_type": "display_data"
    }
   ],
   "source": [
    "plt.scatter(fccenergy, fccentropy, s=10, label='fcc', color='#FFB300')\n",
    "plt.scatter(hcpenergy, hcpentropy, s=10, label='hcp', color='#388E3C')\n",
    "plt.scatter(bccenergy, bccentropy, s=10, label='bcc', color='#C62828')\n",
    "plt.xlabel(\"Energy\")\n",
    "plt.ylabel(\"Entropy\")\n",
    "plt.legend()"
   ]
  },
  {
   "cell_type": "code",
   "execution_count": 14,
   "metadata": {},
   "outputs": [
    {
     "data": {
      "text/plain": [
       "<matplotlib.legend.Legend at 0x7f82fd615d90>"
      ]
     },
     "execution_count": 14,
     "metadata": {},
     "output_type": "execute_result"
    },
    {
     "data": {
      "image/png": "[encoded data removed]",
      "text/plain": [
       "<Figure size 432x288 with 1 Axes>"
      ]
     },
     "metadata": {
      "needs_background": "light"
     },
     "output_type": "display_data"
    }
   ],
   "source": [
    "plt.scatter(avgfccenergy, avgfccentropy, s=10, label='fcc', color='#FFB300')\n",
    "plt.scatter(avghcpenergy, avghcpentropy, s=10, label='hcp', color='#388E3C')\n",
    "plt.scatter(avgbccenergy, avgbccentropy, s=10, label='bcc', color='#C62828')\n",
    "plt.xlabel(\"Avg Energy\")\n",
    "plt.ylabel(\"Avg Entropy\")\n",
    "plt.legend()"
   ]
  }
 ],
 "metadata": {
  "kernelspec": {
   "display_name": "lammps",
   "language": "python",
   "name": "lammps"
  },
  "language_info": {
   "codemirror_mode": {
    "name": "ipython",
    "version": 3
   },
   "file_extension": ".py",
   "mimetype": "text/x-python",
   "name": "python",
   "nbconvert_exporter": "python",
   "pygments_lexer": "ipython3",
   "version": "3.7.6"
  }
 },
 "nbformat": 4,
 "nbformat_minor": 4
}
