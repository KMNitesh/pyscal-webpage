{
 "cells": [
  {
   "cell_type": "markdown",
   "metadata": {},
   "source": [
    "## Calculating energy\n",
    "\n",
    "pyscal can also be used for quick energy calculations. The energy per atom can give an insight into the local environment. pyscal relies on the [python library interface](https://lammps.sandia.gov/doc/Python_library.html) of [LAMMPS](https://lammps.sandia.gov/) for calculation of energy. The python library interface, hence, is a requirement for energy calculation. The easiest way to set up the LAMMPS library is by installing LAMMPS through the conda package.\n",
    "```\n",
    "conda install -c conda-forge lammps\n",
    "```\n",
    "Alternatively, [this page](https://lammps.sandia.gov/doc/Python_head.html) provides information on how to compile manually.\n",
    "\n",
    "### Interatomic potentials\n",
    "\n",
    "An interatomic potential is also required for the calculation of energy. The potential can be of [any type that LAMMPS supports](https://lammps.sandia.gov/doc/pair_style.html). For this example, we will use an EAM potential for Mo which is provided in the file `Mo.set`.   \n",
    "\n",
    "We start by importing the necessary modules,  "
   ]
  },
  {
   "cell_type": "code",
   "execution_count": 1,
   "metadata": {},
   "outputs": [],
   "source": [
    "import pyscal.core as pc\n",
    "import matplotlib.pyplot as plt\n",
    "import numpy as np"
   ]
  },
  {
   "cell_type": "markdown",
   "metadata": {},
   "source": [
    "For this example, a [LAMMPS dump file](https://lammps.sandia.gov/doc/dump.html) will be read in and the energy will be calculated."
   ]
  },
  {
   "cell_type": "code",
   "execution_count": 2,
   "metadata": {},
   "outputs": [],
   "source": [
    "sys = pc.System()\n",
    "sys.read_inputfile(\"conf.bcc.dump\")"
   ]
  },
  {
   "cell_type": "markdown",
   "metadata": {},
   "source": [
    "Now the energy can be calculated by,"
   ]
  },
  {
   "cell_type": "code",
   "execution_count": 3,
   "metadata": {},
   "outputs": [],
   "source": [
    "sys.calculate_energy(species=['Mo'], pair_style='eam/alloy', \n",
    "                     pair_coeff='* * Mo.set Mo', mass=95)"
   ]
  },
  {
   "cell_type": "markdown",
   "metadata": {},
   "source": [
    "The first keyword above is `species`, which specifies the atomic species. This is required for [ASE](https://wiki.fysik.dtu.dk/ase/) module which is used under the hood for convertion of files. `pair_style` species the type of potential used in LAMMPS. See documentation [here](https://lammps.sandia.gov/doc/pair_style.html). `pair_coeff` is another LAMMPS command which is documented well [here](https://lammps.sandia.gov/doc/pair_coeff.html). Also, the mass needs to be provided."
   ]
  },
  {
   "cell_type": "markdown",
   "metadata": {},
   "source": [
    "Once the calculation is over, the energy can be accessed for each atom as follows,"
   ]
  },
  {
   "cell_type": "code",
   "execution_count": 4,
   "metadata": {},
   "outputs": [],
   "source": [
    "atoms = sys.atoms"
   ]
  },
  {
   "cell_type": "code",
   "execution_count": 5,
   "metadata": {},
   "outputs": [
    {
     "data": {
      "text/plain": [
       "-6.743130736133679"
      ]
     },
     "execution_count": 5,
     "metadata": {},
     "output_type": "execute_result"
    }
   ],
   "source": [
    "atoms[0].energy"
   ]
  },
  {
   "cell_type": "markdown",
   "metadata": {},
   "source": [
    "It is also possible to find the energy averaged over the neighbors using the `averaged` keyword. However, a neighbor calculation should be done before."
   ]
  },
  {
   "cell_type": "code",
   "execution_count": 6,
   "metadata": {},
   "outputs": [],
   "source": [
    "sys.find_neighbors(method=\"cutoff\", cutoff=0)\n",
    "sys.calculate_energy(species=['Mo'], pair_style='eam/alloy', \n",
    "                     pair_coeff='* * Mo.set Mo', mass=95, averaged=True)"
   ]
  },
  {
   "cell_type": "code",
   "execution_count": 7,
   "metadata": {},
   "outputs": [
    {
     "data": {
      "text/plain": [
       "-6.534395941639571"
      ]
     },
     "execution_count": 7,
     "metadata": {},
     "output_type": "execute_result"
    }
   ],
   "source": [
    "atoms = sys.atoms\n",
    "atoms[0].avg_energy"
   ]
  },
  {
   "cell_type": "markdown",
   "metadata": {},
   "source": [
    "We have two test configurations for Al at 900 K, one is fcc structured and the other one is in liquid state. We calculate the energy parameters for each of these configurations."
   ]
  },
  {
   "cell_type": "code",
   "execution_count": 8,
   "metadata": {},
   "outputs": [],
   "source": [
    "sys = pc.System()\n",
    "sys.read_inputfile(\"../tests/conf.fcc.Al.dump\")\n",
    "sys.find_neighbors(method=\"cutoff\", cutoff=0)"
   ]
  },
  {
   "cell_type": "code",
   "execution_count": 9,
   "metadata": {},
   "outputs": [],
   "source": [
    "sys.calculate_energy(species=['Al'], pair_style='eam/alloy', \n",
    "                     pair_coeff='* * Al.eam.fs Al', mass=26.98, averaged=True)"
   ]
  },
  {
   "cell_type": "markdown",
   "metadata": {},
   "source": [
    "Now lets gather the energies"
   ]
  },
  {
   "cell_type": "code",
   "execution_count": 10,
   "metadata": {},
   "outputs": [],
   "source": [
    "atoms = sys.atoms\n",
    "solid_energy = [atom.energy for atom in atoms]\n",
    "solid_avg_energy = [atom.avg_energy for atom in atoms]"
   ]
  },
  {
   "cell_type": "markdown",
   "metadata": {},
   "source": [
    "We can repeat the calculations for the liquid phase,"
   ]
  },
  {
   "cell_type": "code",
   "execution_count": 11,
   "metadata": {},
   "outputs": [],
   "source": [
    "sys = pc.System()\n",
    "sys.read_inputfile(\"../tests/conf.lqd.Al.dump\")\n",
    "sys.find_neighbors(method=\"cutoff\", cutoff=0)\n",
    "sys.calculate_energy(species=['Al'], pair_style='eam/alloy', \n",
    "                     pair_coeff='* * Al.eam.fs Al', mass=26.98, averaged=True)\n",
    "atoms = sys.atoms\n",
    "liquid_energy = [atom.energy for atom in atoms]\n",
    "liquid_avg_energy = [atom.avg_energy for atom in atoms]"
   ]
  },
  {
   "cell_type": "markdown",
   "metadata": {},
   "source": [
    "Finally we can plot the results"
   ]
  },
  {
   "cell_type": "code",
   "execution_count": 13,
   "metadata": {},
   "outputs": [
    {
     "data": {
      "text/plain": [
       "Text(0.5, 0, 'Energy')"
      ]
     },
     "execution_count": 13,
     "metadata": {},
     "output_type": "execute_result"
    },
    {
     "data": {
      "image/png": "[encoded data removed]",
      "text/plain": [
       "<Figure size 432x288 with 1 Axes>"
      ]
     },
     "metadata": {
      "needs_background": "light"
     },
     "output_type": "display_data"
    }
   ],
   "source": [
    "xmin = -3.5\n",
    "xmax = -2.5\n",
    "bins = np.arange(xmin, xmax, 0.01)\n",
    "x = plt.hist(solid_energy, bins=bins, density=True, alpha=0.5, color=\"#EF9A9A\")\n",
    "x = plt.hist(solid_avg_energy, bins=bins, density=True, alpha=0.5, color=\"#B71C1C\")\n",
    "x = plt.hist(liquid_energy, bins=bins, density=True, alpha=0.5, color=\"#90CAF9\")\n",
    "x = plt.hist(liquid_avg_energy, bins=bins, density=True, alpha=0.5, color=\"#0D47A1\")\n",
    "plt.xlabel(r\"Energy\")"
   ]
  }
 ],
 "metadata": {
  "kernelspec": {
   "display_name": "Python 3",
   "language": "python",
   "name": "python3"
  },
  "language_info": {
   "codemirror_mode": {
    "name": "ipython",
    "version": 3
   },
   "file_extension": ".py",
   "mimetype": "text/x-python",
   "name": "python",
   "nbconvert_exporter": "python",
   "pygments_lexer": "ipython3",
   "version": "3.7.6"
  }
 },
 "nbformat": 4,
 "nbformat_minor": 4
}
